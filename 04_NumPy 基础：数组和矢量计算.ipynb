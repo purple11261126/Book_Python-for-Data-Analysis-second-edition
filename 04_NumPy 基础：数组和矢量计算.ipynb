{
 "cells": [
  {
   "cell_type": "markdown",
   "metadata": {},
   "source": [
    "对于大部分数据分析应用而言，NumPy 需要关注的功能主要集中在：\n",
    "\n",
    "    用于数据整理和清理、子集构造和过滤、转换等快速的矢量化数组运算。\n",
    "    常用的数组算法，如排序、唯一化、集合运算等。\n",
    "    高效的描述统计和数据聚合/摘要运算。\n",
    "    用于异构数据集的合并/连接运算的数据对齐和关系型数据运算。\n",
    "    将条件逻辑表述为数组表达式（而不是带有if-elif-else分支的循环）。\n",
    "    数据的分组运算（聚合、转换、函数应用等）。。\n",
    "\n",
    "当然，我觉得更重要的是 pandas......"
   ]
  },
  {
   "cell_type": "markdown",
   "metadata": {},
   "source": [
    "# 4.1 NumPy 的 ndarray：一种多维数组对象"
   ]
  },
  {
   "cell_type": "code",
   "execution_count": 2,
   "metadata": {},
   "outputs": [
    {
     "name": "stdout",
     "output_type": "stream",
     "text": [
      "[[0.28646221 0.23516112 0.1468454 ]\n",
      " [0.81870138 0.89643866 0.86633058]]\n",
      "\n",
      "<class 'numpy.ndarray'>\n"
     ]
    }
   ],
   "source": [
    "import numpy as np\n",
    "\n",
    "# 创建 ndarray 对象\n",
    "data = np.random.rand(2, 3)\n",
    "print(data)\n",
    "print()\n",
    "print(type(data))"
   ]
  },
  {
   "cell_type": "code",
   "execution_count": 7,
   "metadata": {},
   "outputs": [
    {
     "name": "stdout",
     "output_type": "stream",
     "text": [
      "[[4.04374108 4.87539682 9.96845177]\n",
      " [8.67017177 5.12951488 7.18539981]]\n",
      "\n",
      "[[0.80874822 0.97507936 1.99369035]\n",
      " [1.73403435 1.02590298 1.43707996]]\n"
     ]
    }
   ],
   "source": [
    "# 数组运算\n",
    "print(data * 10)\n",
    "print()\n",
    "print(data + data)"
   ]
  },
  {
   "cell_type": "code",
   "execution_count": 8,
   "metadata": {},
   "outputs": [
    {
     "name": "stdout",
     "output_type": "stream",
     "text": [
      "(2, 3)\n",
      "\n",
      "float64\n"
     ]
    }
   ],
   "source": [
    "print(data.shape)  # ndarray 的 shape 属性，说明形状的元组\n",
    "print()\n",
    "print(data.dtype)   # ndarray 的 dtype 属性，说明数据类型"
   ]
  },
  {
   "cell_type": "markdown",
   "metadata": {},
   "source": [
    "## 创建 ndarray  \n",
    "np.array() 函数，创建 ndarray，它接受一切类型的序列对象。"
   ]
  },
  {
   "cell_type": "code",
   "execution_count": 9,
   "metadata": {},
   "outputs": [
    {
     "data": {
      "text/plain": [
       "array([6. , 7.5, 8. , 0. , 1. ])"
      ]
     },
     "execution_count": 9,
     "metadata": {},
     "output_type": "execute_result"
    }
   ],
   "source": [
    "data1 = [6, 7.5, 8, 0, 1]\n",
    "arr1 = np.array(data1)\n",
    "arr1"
   ]
  },
  {
   "cell_type": "code",
   "execution_count": 10,
   "metadata": {},
   "outputs": [
    {
     "data": {
      "text/plain": [
       "array([[1, 2, 3, 4],\n",
       "       [5, 6, 7, 8]])"
      ]
     },
     "execution_count": 10,
     "metadata": {},
     "output_type": "execute_result"
    }
   ],
   "source": [
    "# 嵌套序列\n",
    "data2 = [[1, 2, 3, 4], [5, 6, 7, 8]]\n",
    "arr2 = np.array(data2)\n",
    "arr2"
   ]
  },
  {
   "cell_type": "code",
   "execution_count": 11,
   "metadata": {},
   "outputs": [
    {
     "name": "stdout",
     "output_type": "stream",
     "text": [
      "2\n",
      "\n",
      "(2, 4)\n"
     ]
    }
   ],
   "source": [
    "print(arr2.ndim)  # ndim 属性，说明维度，简单理解最外层有几个中括号就是几维数组。\n",
    "print()\n",
    "print(arr2.shape)"
   ]
  },
  {
   "cell_type": "markdown",
   "metadata": {},
   "source": [
    "np.zeros() 函数，生成全 0 数组。  \n",
    "np.ones() 函数，生成全 1。  \n",
    "np.empty() 函数，生成无具体值数组。  \n",
    "只需传入一个表示形状的元组即可"
   ]
  },
  {
   "cell_type": "code",
   "execution_count": 12,
   "metadata": {},
   "outputs": [
    {
     "name": "stdout",
     "output_type": "stream",
     "text": [
      "[0. 0. 0. 0. 0. 0. 0. 0. 0. 0.]\n",
      "\n",
      "[[1. 1. 1.]\n",
      " [1. 1. 1.]]\n",
      "\n",
      "[[[1.18422408e-311 2.47032823e-322]\n",
      "  [0.00000000e+000 0.00000000e+000]]\n",
      "\n",
      " [[0.00000000e+000 2.42336543e-057]\n",
      "  [7.72825487e-091 8.23585362e-067]]\n",
      "\n",
      " [[1.52472309e-052 1.84705683e-076]\n",
      "  [3.99910963e+252 9.18253739e-072]]]\n"
     ]
    }
   ],
   "source": [
    "# 全 0 数组\n",
    "print(np.zeros(10))\n",
    "print()\n",
    "\n",
    "# 全 1 数组\n",
    "print(np.ones((2, 3)))\n",
    "print()\n",
    "\n",
    "# 无具体值数组\n",
    "print(np.empty((3, 2, 2)))"
   ]
  },
  {
   "cell_type": "markdown",
   "metadata": {},
   "source": [
    "np.arange() 函数，是 Python 内置函数 range() 的数组版"
   ]
  },
  {
   "cell_type": "code",
   "execution_count": 13,
   "metadata": {},
   "outputs": [
    {
     "data": {
      "text/plain": [
       "array([0, 1, 2, 3, 4, 5])"
      ]
     },
     "execution_count": 13,
     "metadata": {},
     "output_type": "execute_result"
    }
   ],
   "source": [
    "np.arange(6)"
   ]
  },
  {
   "cell_type": "markdown",
   "metadata": {},
   "source": [
    "[常用 ndarray 创建函数](http://shitu.info/wp-content/uploads/2018/07/常用-ndarray-创建函数.png)"
   ]
  },
  {
   "cell_type": "markdown",
   "metadata": {},
   "source": [
    "## ndarray 的数据类型"
   ]
  },
  {
   "cell_type": "code",
   "execution_count": 14,
   "metadata": {},
   "outputs": [
    {
     "name": "stdout",
     "output_type": "stream",
     "text": [
      "float64\n",
      "int32\n"
     ]
    }
   ],
   "source": [
    "# 设置 dtype 属性，指定数据类型\n",
    "arr1 = np.array([1, 2, 3], dtype=np.float64)\n",
    "arr2 = np.array([1 ,2, 3], dtype=np.int32)\n",
    "\n",
    "print(arr1.dtype)\n",
    "print(arr2.dtype)"
   ]
  },
  {
   "cell_type": "code",
   "execution_count": 16,
   "metadata": {},
   "outputs": [
    {
     "name": "stdout",
     "output_type": "stream",
     "text": [
      "[1. 2. 3.]\n",
      "float64\n"
     ]
    }
   ],
   "source": [
    "# ndarray.astype() 函数，转换数据类型\n",
    "arr = np.array([1, 2, 3])\n",
    "float_arr = arr.astype(np.float64)\n",
    "\n",
    "print(float_arr)\n",
    "print(float_arr.dtype)"
   ]
  },
  {
   "cell_type": "markdown",
   "metadata": {},
   "source": [
    "## NumPy 数组运算  \n",
    "数组很重要，因为它使你不用编写循环即可对数据执行批量运算。NumPy用户称其为矢量化（vectorization）。大小相等的数组之间的任何算术运算都会将运算应用到元素级  \n"
   ]
  },
  {
   "cell_type": "code",
   "execution_count": 17,
   "metadata": {},
   "outputs": [
    {
     "name": "stdout",
     "output_type": "stream",
     "text": [
      "[[1. 2. 3.]\n",
      " [4. 5. 6.]]\n",
      "\n",
      "[[ 1.  4.  9.]\n",
      " [16. 25. 36.]]\n",
      "\n",
      "[[0. 0. 0.]\n",
      " [0. 0. 0.]]\n"
     ]
    }
   ],
   "source": [
    "arr = np.array([[1., 2., 3.], [4., 5., 6.]])\n",
    "print(arr)\n",
    "print()\n",
    "\n",
    "print(arr * arr)\n",
    "print()\n",
    "print(arr - arr)"
   ]
  },
  {
   "cell_type": "code",
   "execution_count": 18,
   "metadata": {},
   "outputs": [
    {
     "name": "stdout",
     "output_type": "stream",
     "text": [
      "[[1.         0.5        0.33333333]\n",
      " [0.25       0.2        0.16666667]]\n",
      "\n",
      "[[1.         1.41421356 1.73205081]\n",
      " [2.         2.23606798 2.44948974]]\n"
     ]
    }
   ],
   "source": [
    "# 数组与标量运算，标量会被广播\n",
    "print(1 / arr)\n",
    "print()\n",
    "print(arr ** 0.5)"
   ]
  },
  {
   "cell_type": "code",
   "execution_count": 19,
   "metadata": {},
   "outputs": [
    {
     "data": {
      "text/plain": [
       "array([[False,  True, False],\n",
       "       [ True, False,  True]])"
      ]
     },
     "execution_count": 19,
     "metadata": {},
     "output_type": "execute_result"
    }
   ],
   "source": [
    "# 比较则会生成布尔变量\n",
    "arr2 = np.array([[0., 4., 1.], [7., 2., 12.]])\n",
    "\n",
    "arr2 > arr"
   ]
  },
  {
   "cell_type": "markdown",
   "metadata": {},
   "source": [
    "## 基本的索引和切片"
   ]
  },
  {
   "cell_type": "code",
   "execution_count": 23,
   "metadata": {},
   "outputs": [
    {
     "name": "stdout",
     "output_type": "stream",
     "text": [
      "[0 1 2 3 4 5 6 7 8 9]\n",
      "\n",
      "5\n",
      "\n",
      "[5 6 7]\n",
      "\n",
      "[ 0  1  2  3  4 12 12 12  8  9]\n"
     ]
    }
   ],
   "source": [
    "arr = np.arange(10)\n",
    "print(arr)\n",
    "print()\n",
    "\n",
    "print(arr[5])\n",
    "print()\n",
    "\n",
    "print(arr[5:8])\n",
    "print()\n",
    "\n",
    "arr[5:8] = 12\n",
    "print(arr)"
   ]
  },
  {
   "cell_type": "code",
   "execution_count": 10,
   "metadata": {},
   "outputs": [
    {
     "name": "stdout",
     "output_type": "stream",
     "text": [
      "[     0      1      2 123123      4      5]\n",
      "\n",
      "[1111111       1       2  123123       4       5]\n",
      "\n",
      "[1111111       1       2  123123       4       5]\n",
      "\n",
      "[1111111       1       2  123123       4       5]\n"
     ]
    }
   ],
   "source": [
    "# ndarray 的赋值是地址传递（节约内存）\n",
    "arr = np.arange(6)\n",
    "\n",
    "arr2 = arr[3:6]  # 地址传递\n",
    "arr2[0] = 123123\n",
    "print(arr)\n",
    "print()\n",
    "\n",
    "arr3 = arr  # 地址传递\n",
    "arr3[0] = 1111111\n",
    "print(arr)\n",
    "print()\n",
    "\n",
    "arr4 = arr[3:6]\n",
    "arr4 = [11111, 22222, 33333, 44444]  # 这里是直接被赋值了其他列表\n",
    "print(arr)\n",
    "print()\n",
    "\n",
    "# 如果需要值传递，使用 copy() 函数\n",
    "arr5 = arr.copy()\n",
    "arr5[0] = 555\n",
    "print(arr)"
   ]
  },
  {
   "cell_type": "code",
   "execution_count": 13,
   "metadata": {},
   "outputs": [
    {
     "name": "stdout",
     "output_type": "stream",
     "text": [
      "[4 5 6]\n",
      "\n",
      "2\n",
      "\n",
      "2\n"
     ]
    }
   ],
   "source": [
    "# 多维 ndarray 的选取\n",
    "arr2d = np.array([[1, 2, 3], [4, 5, 6], [7, 8, 9]])\n",
    "print(arr2d[1])\n",
    "print()\n",
    "print(arr2d[0][1])\n",
    "print()\n",
    "print(arr2d[0, 1])"
   ]
  },
  {
   "cell_type": "markdown",
   "metadata": {},
   "source": [
    "## 切片索引  \n",
    "这个和 Python 列表差不多"
   ]
  },
  {
   "cell_type": "code",
   "execution_count": 20,
   "metadata": {},
   "outputs": [
    {
     "name": "stdout",
     "output_type": "stream",
     "text": [
      "[0 1 2 3 4 5]\n",
      "\n",
      "[1 2 3]\n",
      "\n",
      "[[1 2 3]\n",
      " [4 5 6]\n",
      " [7 8 9]]\n",
      "\n",
      "[[1 2 3]\n",
      " [4 5 6]]\n",
      "\n",
      "[[2 3]\n",
      " [5 6]]\n",
      "\n",
      "[3 6]\n",
      "\n",
      "[[1 0 0]\n",
      " [4 0 0]\n",
      " [7 8 9]]\n"
     ]
    }
   ],
   "source": [
    "# 一维 ndarray 切片\n",
    "arr = np.arange(6)\n",
    "print(arr)\n",
    "print()\n",
    "print(arr[1:4])\n",
    "print()\n",
    "\n",
    "# 多维 ndarray 切片\n",
    "arr2d = np.array([[1, 2, 3], [4, 5, 6], [7, 8, 9]])\n",
    "print(arr2d)\n",
    "print()\n",
    "print(arr2d[:2])\n",
    "print()\n",
    "print(arr2d[:2, 1:])\n",
    "print()\n",
    "print(arr2d[:2, 2])\n",
    "print()\n",
    "\n",
    "# 利用切片赋值\n",
    "arr2d[:2, 1:] = 0\n",
    "print(arr2d)"
   ]
  },
  {
   "cell_type": "markdown",
   "metadata": {},
   "source": [
    "## 布尔索引"
   ]
  },
  {
   "cell_type": "code",
   "execution_count": 34,
   "metadata": {},
   "outputs": [
    {
     "name": "stdout",
     "output_type": "stream",
     "text": [
      "['Bob' 'Joe' 'Will' 'Bob' 'Will' 'Joe' 'Joe']\n",
      "[[ 0.26385953 -0.39426728 -1.28343729 -0.47630775]\n",
      " [ 1.0992668   1.7408367  -1.81075885  0.64178532]\n",
      " [ 0.37838273  0.35480313 -0.05157533  0.12515077]\n",
      " [ 0.68716693 -0.65432734 -0.48164105  0.17237725]\n",
      " [ 1.44320923 -0.94888026 -0.60578347 -0.28326407]\n",
      " [ 0.52220655 -0.49212852  0.33902861  1.43534087]\n",
      " [ 0.40772969  0.44500511  2.18573772 -1.5079036 ]]\n",
      "\n",
      "[[ 0.26385953 -0.39426728 -1.28343729 -0.47630775]\n",
      " [ 0.68716693 -0.65432734 -0.48164105  0.17237725]]\n",
      "\n",
      "[[-1.28343729 -0.47630775]\n",
      " [-0.48164105  0.17237725]]\n",
      "\n",
      "[-1.28343729 -0.48164105]\n"
     ]
    }
   ],
   "source": [
    "# 通过布尔索引选择数据\n",
    "names = np.array(['Bob', 'Joe', 'Will', 'Bob', 'Will', 'Joe', 'Joe'])\n",
    "data = np.random.randn(7, 4)\n",
    "print(names)\n",
    "print(data)\n",
    "print()\n",
    "\n",
    "print(data[names == 'Bob'])  # 选择 Bob 对应的行\n",
    "print()\n",
    "print(data[names=='Bob', 2:])\n",
    "print()\n",
    "print(data[names=='Bob', 2])"
   ]
  },
  {
   "cell_type": "code",
   "execution_count": 42,
   "metadata": {},
   "outputs": [
    {
     "data": {
      "text/plain": [
       "array([[ 1.0992668 ,  1.7408367 , -1.81075885,  0.64178532],\n",
       "       [ 0.37838273,  0.35480313, -0.05157533,  0.12515077],\n",
       "       [ 1.44320923, -0.94888026, -0.60578347, -0.28326407],\n",
       "       [ 0.52220655, -0.49212852,  0.33902861,  1.43534087],\n",
       "       [ 0.40772969,  0.44500511,  2.18573772, -1.5079036 ]])"
      ]
     },
     "execution_count": 42,
     "metadata": {},
     "output_type": "execute_result"
    }
   ],
   "source": [
    "# ~ 取反操作\n",
    "data[~(names == 'Bob')]"
   ]
  },
  {
   "cell_type": "code",
   "execution_count": 36,
   "metadata": {},
   "outputs": [],
   "source": [
    "# &（和）、|（或）"
   ]
  },
  {
   "cell_type": "markdown",
   "metadata": {},
   "source": [
    "## 花式索引  \n",
    "花式索引（Fancy indexing）是一个NumPy术语，它指的是利用整数数组进行索引。"
   ]
  },
  {
   "cell_type": "code",
   "execution_count": 37,
   "metadata": {},
   "outputs": [
    {
     "data": {
      "text/plain": [
       "array([[0., 0., 0., 0.],\n",
       "       [1., 1., 1., 1.],\n",
       "       [2., 2., 2., 2.],\n",
       "       [3., 3., 3., 3.],\n",
       "       [4., 4., 4., 4.],\n",
       "       [5., 5., 5., 5.],\n",
       "       [6., 6., 6., 6.],\n",
       "       [7., 7., 7., 7.]])"
      ]
     },
     "execution_count": 37,
     "metadata": {},
     "output_type": "execute_result"
    }
   ],
   "source": [
    "arr = np.empty((8, 4))\n",
    "for i in range(8):\n",
    "    arr[i] = i\n",
    "arr"
   ]
  },
  {
   "cell_type": "code",
   "execution_count": 43,
   "metadata": {},
   "outputs": [
    {
     "name": "stdout",
     "output_type": "stream",
     "text": [
      "[[4. 4. 4. 4.]\n",
      " [3. 3. 3. 3.]\n",
      " [0. 0. 0. 0.]\n",
      " [6. 6. 6. 6.]]\n",
      "\n",
      "[[5. 5. 5. 5.]\n",
      " [3. 3. 3. 3.]\n",
      " [1. 1. 1. 1.]]\n"
     ]
    }
   ],
   "source": [
    "# 以特定顺序选取行子集，只需传入一个用于指定顺序的整数列表或ndarray\n",
    "print(arr[[4, 3, 0, 6]])\n",
    "print()\n",
    "\n",
    "# 负数表示从末尾开始选取行\n",
    "print(arr[[-3, -5, -7]])"
   ]
  },
  {
   "cell_type": "code",
   "execution_count": 45,
   "metadata": {},
   "outputs": [
    {
     "name": "stdout",
     "output_type": "stream",
     "text": [
      "[[ 0  1  2  3]\n",
      " [ 4  5  6  7]\n",
      " [ 8  9 10 11]\n",
      " [12 13 14 15]\n",
      " [16 17 18 19]\n",
      " [20 21 22 23]\n",
      " [24 25 26 27]\n",
      " [28 29 30 31]]\n",
      "\n",
      "[ 4 23 29 10]\n",
      "\n",
      "[[ 4  7  5  6]\n",
      " [20 23 21 22]\n",
      " [28 31 29 30]\n",
      " [ 8 11  9 10]]\n"
     ]
    }
   ],
   "source": [
    "# 传入多个数组，返回对应的具体元素\n",
    "arr = np.arange(32).reshape((8, 4))\n",
    "print(arr)\n",
    "print()\n",
    "\n",
    "print(arr[[1, 5, 7, 2], [0, 3, 1, 2]])\n",
    "print()\n",
    "\n",
    "# 选取矩阵的行列子集应该是矩形区域的形式。\n",
    "print(arr[[1, 5, 7, 2]][:, [0, 3, 1, 2]])"
   ]
  },
  {
   "cell_type": "markdown",
   "metadata": {},
   "source": [
    "## 数组转置和轴对换  \n",
    "转置是重塑的一种特殊形式，它返回的是源数据的视图（不会进行任何复制操作）。数组不仅有 transpose() 函数，还有一个特殊的 T 属性。"
   ]
  },
  {
   "cell_type": "code",
   "execution_count": 46,
   "metadata": {},
   "outputs": [
    {
     "name": "stdout",
     "output_type": "stream",
     "text": [
      "[[ 0  1  2  3  4]\n",
      " [ 5  6  7  8  9]\n",
      " [10 11 12 13 14]]\n",
      "\n",
      "[[ 0  5 10]\n",
      " [ 1  6 11]\n",
      " [ 2  7 12]\n",
      " [ 3  8 13]\n",
      " [ 4  9 14]]\n"
     ]
    }
   ],
   "source": [
    "arr = np.arange(15).reshape((3, 5))\n",
    "print(arr)\n",
    "print()\n",
    "\n",
    "# T 属性，转置\n",
    "print(arr.T)"
   ]
  },
  {
   "cell_type": "code",
   "execution_count": 47,
   "metadata": {},
   "outputs": [
    {
     "name": "stdout",
     "output_type": "stream",
     "text": [
      "[[ 0.69025647  0.99260109  0.89482498]\n",
      " [ 1.70312458 -1.23559727  1.14575501]\n",
      " [-1.67631488 -0.73871849 -1.43320222]\n",
      " [ 1.15070589  0.76376425  1.97004759]\n",
      " [ 1.32706286  1.48725566 -0.21234282]\n",
      " [ 0.05110202  0.21270013  1.0082305 ]]\n",
      "\n"
     ]
    },
    {
     "data": {
      "text/plain": [
       "array([[9.27495019, 2.6825172 , 7.00819617],\n",
       "       [2.6825172 , 5.89816911, 1.93454008],\n",
       "       [7.00819617, 1.93454008, 9.11024059]])"
      ]
     },
     "execution_count": 47,
     "metadata": {},
     "output_type": "execute_result"
    }
   ],
   "source": [
    "# 在进行矩阵计算时，经常需要用到转置操作，比如利用 np.dot() 计算矩阵内积\n",
    "arr = np.random.randn(6, 3)\n",
    "print(arr)\n",
    "print()\n",
    "\n",
    "np.dot(arr.T, arr)"
   ]
  },
  {
   "cell_type": "code",
   "execution_count": 48,
   "metadata": {},
   "outputs": [
    {
     "name": "stdout",
     "output_type": "stream",
     "text": [
      "[[[ 0  1  2  3]\n",
      "  [ 4  5  6  7]]\n",
      "\n",
      " [[ 8  9 10 11]\n",
      "  [12 13 14 15]]]\n",
      "\n"
     ]
    },
    {
     "data": {
      "text/plain": [
       "array([[[ 0,  1,  2,  3],\n",
       "        [ 8,  9, 10, 11]],\n",
       "\n",
       "       [[ 4,  5,  6,  7],\n",
       "        [12, 13, 14, 15]]])"
      ]
     },
     "execution_count": 48,
     "metadata": {},
     "output_type": "execute_result"
    }
   ],
   "source": [
    "# ndarray.transpose() 函数，用于高维数组的转置\n",
    "arr = np.arange(16).reshape((2, 2, 4))\n",
    "print(arr)\n",
    "print()\n",
    "\n",
    "arr.transpose((1, 0, 2))  # 原始数据轴号从 0 开始，传递转置后的轴顺序元组即可。"
   ]
  },
  {
   "cell_type": "code",
   "execution_count": 49,
   "metadata": {},
   "outputs": [
    {
     "name": "stdout",
     "output_type": "stream",
     "text": [
      "[[[ 0  1  2  3]\n",
      "  [ 4  5  6  7]]\n",
      "\n",
      " [[ 8  9 10 11]\n",
      "  [12 13 14 15]]]\n",
      "\n"
     ]
    },
    {
     "data": {
      "text/plain": [
       "array([[[ 0,  4],\n",
       "        [ 1,  5],\n",
       "        [ 2,  6],\n",
       "        [ 3,  7]],\n",
       "\n",
       "       [[ 8, 12],\n",
       "        [ 9, 13],\n",
       "        [10, 14],\n",
       "        [11, 15]]])"
      ]
     },
     "execution_count": 49,
     "metadata": {},
     "output_type": "execute_result"
    }
   ],
   "source": [
    "# ndarray.swapaxes() 函数，需要接受一对轴编号\n",
    "arr = np.arange(16).reshape((2, 2, 4))\n",
    "print(arr)\n",
    "print()\n",
    "\n",
    "arr.swapaxes(1 ,2)"
   ]
  },
  {
   "cell_type": "markdown",
   "metadata": {},
   "source": [
    "# 4.2 通用函数：快速的元素级数组函数"
   ]
  },
  {
   "cell_type": "code",
   "execution_count": 50,
   "metadata": {},
   "outputs": [
    {
     "name": "stdout",
     "output_type": "stream",
     "text": [
      "[0.         1.         1.41421356 1.73205081 2.         2.23606798\n",
      " 2.44948974 2.64575131 2.82842712 3.        ]\n",
      "\n",
      "[1.00000000e+00 2.71828183e+00 7.38905610e+00 2.00855369e+01\n",
      " 5.45981500e+01 1.48413159e+02 4.03428793e+02 1.09663316e+03\n",
      " 2.98095799e+03 8.10308393e+03]\n",
      "\n",
      "[ 0.98550528  0.79391437  0.12562314 -1.31758322  0.16104769  0.72142452\n",
      "  1.52302584  1.32306289]\n"
     ]
    }
   ],
   "source": [
    "# 一元函数\n",
    "arr = np.arange(10)\n",
    "\n",
    "print(np.sqrt(arr))\n",
    "print()\n",
    "print(np.exp(arr))\n",
    "print()\n",
    "\n",
    "# 二元函数\n",
    "x = np.random.randn(8)\n",
    "y = np.random.randn(8)\n",
    "\n",
    "print(np.maximum(x, y))"
   ]
  },
  {
   "cell_type": "markdown",
   "metadata": {},
   "source": [
    "[常用一元 ufunc](http://shitu.info/wp-content/uploads/2018/07/常用一元-ufunc.png)  \n",
    "[常用二元 ufunc](http://shitu.info/wp-content/uploads/2018/07/常用二元-ufunc.png)  \n"
   ]
  },
  {
   "cell_type": "markdown",
   "metadata": {},
   "source": [
    "# 4.3 利用数据进行数据处理"
   ]
  },
  {
   "cell_type": "code",
   "execution_count": null,
   "metadata": {},
   "outputs": [],
   "source": []
  }
 ],
 "metadata": {
  "kernelspec": {
   "display_name": "Python 3",
   "language": "python",
   "name": "python3"
  },
  "language_info": {
   "codemirror_mode": {
    "name": "ipython",
    "version": 3
   },
   "file_extension": ".py",
   "mimetype": "text/x-python",
   "name": "python",
   "nbconvert_exporter": "python",
   "pygments_lexer": "ipython3",
   "version": "3.6.5"
  }
 },
 "nbformat": 4,
 "nbformat_minor": 2
}
